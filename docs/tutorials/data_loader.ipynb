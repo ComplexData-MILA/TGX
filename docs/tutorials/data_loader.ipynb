{
 "cells": [
  {
   "cell_type": "markdown",
   "metadata": {},
   "source": [
    "# Load built-in and ported datasets from TGB\n",
    "This tutorial shows you how to load built-in datasets\n"
   ]
  },
  {
   "cell_type": "code",
   "execution_count": null,
   "metadata": {},
   "outputs": [],
   "source": [
    "import tgx"
   ]
  },
  {
   "cell_type": "markdown",
   "metadata": {},
   "source": [
    "### Access TGB datasets\n",
    "In order to load TGB datasets you should first install the TGB package:\n",
    "\n",
    "`pip install py-tgb`\n",
    "\n",
    "Then write name of the dataset in the parantheses:\n",
    "\n",
    "`tgx.data.tgb(\"name\")`\n",
    "\n",
    "The dataset names are as follow\n",
    "\n",
    "`tgbl-wiki`, `tgbl-review`, `tgbl-coin`, `tgbl-comment`, `tgbl-flight`\n",
    "\n",
    "`tgbn-trade`, `tgbn-genre`, `tgbn-reddit`"
   ]
  },
  {
   "cell_type": "code",
   "execution_count": 2,
   "metadata": {},
   "outputs": [
    {
     "name": "stdout",
     "output_type": "stream",
     "text": [
      "raw file found, skipping download\n",
      "Dataset directory is  /mnt/f/code/TGB/tgb/datasets/tgbl_wiki\n",
      "loading processed file\n",
      "Number of loaded edges: 157474\n",
      "Number of unique edges:18257\n",
      "Available timestamps:  152757\n"
     ]
    }
   ],
   "source": [
    "data_name = \"tgbl-wiki\" \n",
    "dataset = tgx.tgb_data(data_name) #tgb datasets\n",
    "ctdg = tgx.Graph(dataset)"
   ]
  },
  {
   "cell_type": "markdown",
   "metadata": {},
   "source": [
    "### Access other datasets\n",
    "\n",
    "To load built-in TGX datasets (from [Poursafaei et al. 2022](https://openreview.net/forum?id=1GVpwr2Tfdg)). You can write the name of the dataset instead of `datasest_name`:\n",
    "\n",
    "`tgx.data.dataset_name`\n",
    "\n",
    "The dataset names are as:\n",
    "\n",
    "`mooc`, `uci`, `uslegis`, `unvote`, `untrade`, `flight`, `wikipedia`, `reddit`, `lastfm`, `contact`, `canparl`, `socialevo`, `enron`"
   ]
  },
  {
   "cell_type": "code",
   "execution_count": 3,
   "metadata": {},
   "outputs": [
    {
     "name": "stdout",
     "output_type": "stream",
     "text": [
      "Number of loaded edges: 59835\n",
      "Number of unique edges:20296\n",
      "Available timestamps:  58911\n"
     ]
    }
   ],
   "source": [
    "dataset = tgx.builtin.uci()\n",
    "ctdg = tgx.Graph(dataset)"
   ]
  },
  {
   "cell_type": "markdown",
   "metadata": {},
   "source": [
    "### Custom Datasets"
   ]
  },
  {
   "cell_type": "markdown",
   "metadata": {},
   "source": [
    "You can load your own custom dataset from `.csv` files and read it into a `tgx.Graph` object\n",
    "\n",
    "Let's start by loading a toy dataset into pandas and then visualize the rows"
   ]
  },
  {
   "cell_type": "code",
   "execution_count": 4,
   "metadata": {},
   "outputs": [
    {
     "data": {
      "text/html": [
       "<div>\n",
       "<style scoped>\n",
       "    .dataframe tbody tr th:only-of-type {\n",
       "        vertical-align: middle;\n",
       "    }\n",
       "\n",
       "    .dataframe tbody tr th {\n",
       "        vertical-align: top;\n",
       "    }\n",
       "\n",
       "    .dataframe thead th {\n",
       "        text-align: right;\n",
       "    }\n",
       "</style>\n",
       "<table border=\"1\" class=\"dataframe\">\n",
       "  <thead>\n",
       "    <tr style=\"text-align: right;\">\n",
       "      <th></th>\n",
       "      <th>time</th>\n",
       "      <th>source</th>\n",
       "      <th>destination</th>\n",
       "    </tr>\n",
       "  </thead>\n",
       "  <tbody>\n",
       "    <tr>\n",
       "      <th>0</th>\n",
       "      <td>0</td>\n",
       "      <td>1</td>\n",
       "      <td>2</td>\n",
       "    </tr>\n",
       "    <tr>\n",
       "      <th>1</th>\n",
       "      <td>0</td>\n",
       "      <td>2</td>\n",
       "      <td>1</td>\n",
       "    </tr>\n",
       "    <tr>\n",
       "      <th>2</th>\n",
       "      <td>0</td>\n",
       "      <td>3</td>\n",
       "      <td>1</td>\n",
       "    </tr>\n",
       "    <tr>\n",
       "      <th>3</th>\n",
       "      <td>1</td>\n",
       "      <td>2</td>\n",
       "      <td>2</td>\n",
       "    </tr>\n",
       "    <tr>\n",
       "      <th>4</th>\n",
       "      <td>1</td>\n",
       "      <td>1</td>\n",
       "      <td>2</td>\n",
       "    </tr>\n",
       "    <tr>\n",
       "      <th>5</th>\n",
       "      <td>1</td>\n",
       "      <td>3</td>\n",
       "      <td>1</td>\n",
       "    </tr>\n",
       "  </tbody>\n",
       "</table>\n",
       "</div>"
      ],
      "text/plain": [
       "   time   source   destination\n",
       "0     0        1             2\n",
       "1     0        2             1\n",
       "2     0        3             1\n",
       "3     1        2             2\n",
       "4     1        1             2\n",
       "5     1        3             1"
      ]
     },
     "execution_count": 4,
     "metadata": {},
     "output_type": "execute_result"
    }
   ],
   "source": [
    "import pandas as pd\n",
    "toy_fname = 'toy_data.csv'\n",
    "df = pd.read_csv(toy_fname)\n",
    "df"
   ]
  },
  {
   "cell_type": "code",
   "execution_count": 5,
   "metadata": {},
   "outputs": [
    {
     "name": "stdout",
     "output_type": "stream",
     "text": [
      "Number of loaded edges: 5\n",
      "Number of unique edges: 4\n",
      "Available timestamps:  2\n"
     ]
    },
    {
     "data": {
      "text/plain": [
       "<tgx.classes.graph.Graph at 0x7fde4755aca0>"
      ]
     },
     "execution_count": 5,
     "metadata": {},
     "output_type": "execute_result"
    }
   ],
   "source": [
    "from tgx.io.read import read_csv\n",
    "# header indicates if there is a header row at the top\n",
    "# index whether the first column is row indices\n",
    "# t_col indicates which column corresponds to timestamps\n",
    "edgelist = read_csv(toy_fname, \n",
    "         header=True,\n",
    "         index=False,\n",
    "         t_col=0,)\n",
    "tgx.Graph(edgelist=edgelist)"
   ]
  },
  {
   "cell_type": "markdown",
   "metadata": {},
   "source": [
    "### Subsampling graphs\n",
    "\n",
    "To perform subsmpling graphs you should follow these steps:\n",
    "\n",
    "1. descritize the data\n",
    "\n",
    "2. create a graph object of data (G)\n",
    "\n",
    "3. subsample the graph by `tgx.utils.graph_utils.subsampling`\n",
    "\n",
    "4. create a new graph from the subsampled subgraph"
   ]
  },
  {
   "cell_type": "code",
   "execution_count": 6,
   "metadata": {},
   "outputs": [
    {
     "name": "stdout",
     "output_type": "stream",
     "text": [
      "Generate graph subsample...\n"
     ]
    }
   ],
   "source": [
    "from tgx.utils.graph_utils import subsampling\n",
    "\n",
    "sub_edges = subsampling(ctdg, selection_strategy=\"random\", N=1000) #N is # of nodes to be sampled \n",
    "subgraph = tgx.Graph(edgelist=sub_edges)"
   ]
  }
 ],
 "metadata": {
  "kernelspec": {
   "display_name": "Python 3 (ipykernel)",
   "language": "python",
   "name": "python3"
  },
  "language_info": {
   "codemirror_mode": {
    "name": "ipython",
    "version": 3
   },
   "file_extension": ".py",
   "mimetype": "text/x-python",
   "name": "python",
   "nbconvert_exporter": "python",
   "pygments_lexer": "ipython3",
   "version": "3.9.6"
  }
 },
 "nbformat": 4,
 "nbformat_minor": 4
}
