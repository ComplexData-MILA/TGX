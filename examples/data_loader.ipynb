{
 "cells": [
  {
   "cell_type": "markdown",
   "metadata": {},
   "source": [
    "# Access edge data as numpy arrays\n",
    "This tutorial shows you how to load built-in datasets\n"
   ]
  },
  {
   "cell_type": "code",
   "execution_count": 2,
   "metadata": {},
   "outputs": [],
   "source": [
    "import tgx"
   ]
  },
  {
   "cell_type": "markdown",
   "metadata": {},
   "source": [
    "### Access TGB datasets\n",
    "In order to load TGB datasets you should first install the TGB package:\n",
    "\n",
    "`pip install py-tgb`\n",
    "\n",
    "Then write name of the dataset in the parantheses:\n",
    "\n",
    "`tgx.data.tgb(\"name\")`\n",
    "\n",
    "The dataset names are as follow\n",
    "\n",
    "`tgbl-wiki`, `tgbl-review`, `tgbl-coin`, `tgbl-comment`, `tgbl-flight`\n",
    "\n",
    "`tgbn-trade`, `tgbn-genre`, `tgbn-reddit`"
   ]
  },
  {
   "cell_type": "code",
   "execution_count": 5,
   "metadata": {},
   "outputs": [
    {
     "name": "stdout",
     "output_type": "stream",
     "text": [
      "file found, skipping download\n",
      "Dataset directory is  /home/mila/r/razieh.shirzadkhani/.conda/envs/tg/lib/python3.9/site-packages/tgb/datasets/tgbl_review\n",
      "loading processed file\n",
      "Number of loaded edges: 4873540\n",
      "Available timestamps:  6865\n",
      "Discretizing data to 51 timestamps...\n"
     ]
    },
    {
     "data": {
      "text/plain": [
       "52"
      ]
     },
     "execution_count": 5,
     "metadata": {},
     "output_type": "execute_result"
    }
   ],
   "source": [
    "dataset = tgx.data.tgb(\"tgbl-review\")\n",
    "data = tgx.read_edgelist(data=dataset, discretize=True, intervals=50)\n",
    "len(data)"
   ]
  },
  {
   "cell_type": "markdown",
   "metadata": {},
   "source": [
    "### Access other datasets\n",
    "\n",
    "To load datasets from https://proceedings.neurips.cc/paper_files/paper/2022/hash/d49042a5d49818711c401d34172f9900-Abstract-Datasets_and_Benchmarks.html you should write the name of the dataset instead of `datasest_name`:\n",
    "\n",
    "`tgx.data.dataset_name`\n",
    "\n",
    "The dataset names are as:\n",
    "\n",
    "`mooc`, `uci`, `uslegis`, `unvote`, `untrade`, `flight`, `wikipedia`, `reddit`, `lastfm`, `contact`, `canparl`, `socialevo`, `enron`"
   ]
  },
  {
   "cell_type": "code",
   "execution_count": null,
   "metadata": {},
   "outputs": [],
   "source": [
    "data_path = '/network/scratch/r/razieh.shirzadkhani/'\n",
    "dataset = tgx.data.mooc(root=data_path)\n",
    "data = tgx.read_edgelist(data=dataset, discretize=True, intervals=51)"
   ]
  },
  {
   "cell_type": "markdown",
   "metadata": {},
   "source": [
    "### Subsampling graphs\n",
    "\n",
    "To perform subsmpling graphs you should follow these steps:\n",
    "\n",
    "1. descritize the data\n",
    "\n",
    "2. create a graph object of data (G)\n",
    "\n",
    "3. run `graph_subsampling(G)` by specifying either random selection and number of nodes or providing a list of node ids\n",
    "\n",
    "4. assign the created graph to the object as `G.subsampled_graph`"
   ]
  },
  {
   "cell_type": "code",
   "execution_count": null,
   "metadata": {},
   "outputs": [],
   "source": [
    "from tgx.utils.subsampling import graph_subsampling\n",
    "\n",
    "G = tgx.Graph(data)\n",
    "new_edges = graph_subsampling(G, random_selection=True, N=1000)\n",
    "G.subsampled_graph = G._generate_graph(new_edges)"
   ]
  },
  {
   "cell_type": "markdown",
   "metadata": {},
   "source": [
    "### Plot node&edge and average degree per timestamp for subsampled graphs"
   ]
  },
  {
   "cell_type": "code",
   "execution_count": null,
   "metadata": {},
   "outputs": [],
   "source": [
    "plot_path = \"./examples/plots/\"\n",
    "tgx.nodes_and_edges_per_ts(G.subsampled_graph, plot_path, network_name=dataset.name)\n",
    "tgx.average_degree_per_ts(G.subsampled_graph, total_nodes, plot_path, network_name=dataset.name)"
   ]
  }
 ],
 "metadata": {
  "kernelspec": {
   "display_name": "Python 3 (tg)",
   "language": "python",
   "name": "tg"
  },
  "language_info": {
   "codemirror_mode": {
    "name": "ipython",
    "version": 3
   },
   "file_extension": ".py",
   "mimetype": "text/x-python",
   "name": "python",
   "nbconvert_exporter": "python",
   "pygments_lexer": "ipython3",
   "version": "3.9.12"
  }
 },
 "nbformat": 4,
 "nbformat_minor": 4
}
