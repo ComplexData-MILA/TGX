{
 "cells": [
  {
   "cell_type": "markdown",
   "metadata": {},
   "source": [
    "# Access edge data as numpy arrays\n",
    "This tutorial shows you how to load built-in datasets\n",
    "\n",
    "You can directly retrieve the edge data as numpy arrays, PyG and Pytorch dependencies are not necessary\n",
    "\n",
    "The logic is implemented in dataset.py under 'tgb/linkproppred/' and tgb/nodeproppred/ folders respectively"
   ]
  },
  {
   "cell_type": "code",
   "execution_count": null,
   "metadata": {},
   "outputs": [],
   "source": [
    "import tgx"
   ]
  },
  {
   "cell_type": "markdown",
   "metadata": {},
   "source": [
    "### Access TGB datasets\n",
    "In order to load TGB datasets you should first install the TGB package:\n",
    "'pip install py-tgb'\n",
    "\n",
    "Then write name of the dataset in the parantheses:\n",
    "'tgx.data.tgb(\"name\")\n",
    "\n",
    "The dataset names are as follow\n",
    "'tgbl-review', 'tgbl-'"
   ]
  },
  {
   "cell_type": "code",
   "execution_count": 2,
   "metadata": {},
   "outputs": [
    {
     "name": "stdout",
     "output_type": "stream",
     "text": [
      "Hi\n"
     ]
    }
   ],
   "source": [
    "data_path = '/network/scratch/r/razieh.shirzadkhani/'\n",
    "# dataset = tgx.data.mooc(root=data_path)\n",
    "dataset = tgx.data.tgb(\"tgbl-review\")\n",
    "data = tgx.read_edgelist(data=dataset, discretize=True, intervals=51)\n",
    "\n",
    "\n",
    "G = tgx.Graph(data)\n",
    "total_nodes = G.number_of_nodes()\n",
    "# plot_path = \"./examples/plots/\"\n",
    "# new_edges = graph_subsampling(G, random_selection=True, N=1000)\n",
    "# G.subsampled_graph = G._generate_graph(new_edges)\n",
    "# tgx.nodes_and_edges_per_ts(G.subsampled_graph, plot_path, network_name=dataset.name)\n",
    "# tgx.average_degree_per_ts(G.subsampled_graph, total_nodes, plot_path, network_name=dataset.name)\n",
    "\n",
    "\n",
    "# TEA_path = \"./examples/plots/TEA/\"\n",
    "# tgx.TEA(new_edges, TEA_path, network_name=dataset.name)\n",
    "TET_path = \"./examples/plots/TET/\"\n",
    "tgx.TET(data, TET_path, network_name=dataset.name)"
   ]
  }
 ],
 "metadata": {
  "kernelspec": {
   "display_name": "Python 3 (tg)",
   "language": "python",
   "name": "tg"
  },
  "language_info": {
   "codemirror_mode": {
    "name": "ipython",
    "version": 3
   },
   "file_extension": ".py",
   "mimetype": "text/x-python",
   "name": "python",
   "nbconvert_exporter": "python",
   "pygments_lexer": "ipython3",
   "version": "3.9.12"
  }
 },
 "nbformat": 4,
 "nbformat_minor": 4
}
